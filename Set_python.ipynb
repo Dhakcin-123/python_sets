{
  "nbformat": 4,
  "nbformat_minor": 0,
  "metadata": {
    "colab": {
      "provenance": [],
      "authorship_tag": "ABX9TyNdFex5e/QFWy5pHUdawbrv",
      "include_colab_link": true
    },
    "kernelspec": {
      "name": "python3",
      "display_name": "Python 3"
    },
    "language_info": {
      "name": "python"
    }
  },
  "cells": [
    {
      "cell_type": "markdown",
      "metadata": {
        "id": "view-in-github",
        "colab_type": "text"
      },
      "source": [
        "<a href=\"https://colab.research.google.com/github/Dhakcin-123/python_sets/blob/main/Set_python.ipynb\" target=\"_parent\"><img src=\"https://colab.research.google.com/assets/colab-badge.svg\" alt=\"Open In Colab\"/></a>"
      ]
    },
    {
      "cell_type": "code",
      "execution_count": 1,
      "metadata": {
        "colab": {
          "base_uri": "https://localhost:8080/"
        },
        "id": "vHM3optrdksn",
        "outputId": "23615526-bec1-491e-decb-fe389a41bb10"
      },
      "outputs": [
        {
          "output_type": "stream",
          "name": "stdout",
          "text": [
            "{1, 2, 3, 4}\n"
          ]
        }
      ],
      "source": [
        "my_set = {1,2,3,4,3}\n",
        "print(my_set)"
      ]
    },
    {
      "cell_type": "code",
      "source": [
        "numbers = {1,2,4,5,5,3,6,7,7}\n",
        "unique_set = set(numbers)\n",
        "print(unique_set)"
      ],
      "metadata": {
        "colab": {
          "base_uri": "https://localhost:8080/"
        },
        "id": "JUXN_w8xd-ig",
        "outputId": "0ea566dd-2739-43b9-f85f-c804d2fec7fe"
      },
      "execution_count": 4,
      "outputs": [
        {
          "output_type": "stream",
          "name": "stdout",
          "text": [
            "{1, 2, 3, 4, 5, 6, 7}\n"
          ]
        }
      ]
    },
    {
      "cell_type": "code",
      "source": [
        "set1 = {1,2,3,4,5,6,6,6,7,8}\n",
        "set2 = {4,5,5,6,7,8,9,10,10,11}\n",
        "union_set = set1.union(set2)\n",
        "print(\"The union of the sets are\",union_set)"
      ],
      "metadata": {
        "colab": {
          "base_uri": "https://localhost:8080/"
        },
        "id": "iPk1vSbkeuoA",
        "outputId": "bc11489a-5516-4e62-b227-d1d5de32370f"
      },
      "execution_count": 5,
      "outputs": [
        {
          "output_type": "stream",
          "name": "stdout",
          "text": [
            "The union of the sets are {1, 2, 3, 4, 5, 6, 7, 8, 9, 10, 11}\n"
          ]
        }
      ]
    },
    {
      "cell_type": "code",
      "source": [
        "set1 = {1,2,3,4,5,6,6,6,7,8}\n",
        "set2 = {4,5,5,6,7,8,9,10,10,11}\n",
        "intersection_set = set1.intersection(set2)\n",
        "print(\"The intersecting values are\",intersection_set)"
      ],
      "metadata": {
        "colab": {
          "base_uri": "https://localhost:8080/"
        },
        "id": "1eQY7YW7gFRc",
        "outputId": "ad0b4cfc-cb1e-42e6-b92c-3646c269c96d"
      },
      "execution_count": 6,
      "outputs": [
        {
          "output_type": "stream",
          "name": "stdout",
          "text": [
            "The intersecting values are {4, 5, 6, 7, 8}\n"
          ]
        }
      ]
    },
    {
      "cell_type": "code",
      "source": [
        "fruits = [\"strawberry\",\"watermelon\",\"apple\",\"mango\",\"orange\",\"strawberry\",\"mango\"]\n",
        "var = set(fruits)\n",
        "print(var)"
      ],
      "metadata": {
        "colab": {
          "base_uri": "https://localhost:8080/"
        },
        "id": "pl5iPHe0gb85",
        "outputId": "5add6cc5-60d1-4252-a905-d2535f6cdd02"
      },
      "execution_count": 9,
      "outputs": [
        {
          "output_type": "stream",
          "name": "stdout",
          "text": [
            "{'strawberry', 'mango', 'watermelon', 'apple', 'orange'}\n"
          ]
        }
      ]
    },
    {
      "cell_type": "code",
      "source": [
        "list1 = [1,2,2,3,3,3,3,4,5,6,7,7]\n",
        "list2 = [4,4,4,5,6,7,7,7,8,9,10,11]\n",
        "set1 = set(list1)\n",
        "set2 = set(list2)\n",
        "inter = set1.intersection(set2)\n",
        "print(inter)"
      ],
      "metadata": {
        "colab": {
          "base_uri": "https://localhost:8080/"
        },
        "id": "7xViouFIi19V",
        "outputId": "c4292c81-1e22-4d59-f95c-78484db1a89f"
      },
      "execution_count": 10,
      "outputs": [
        {
          "output_type": "stream",
          "name": "stdout",
          "text": [
            "{4, 5, 6, 7}\n"
          ]
        }
      ]
    },
    {
      "cell_type": "code",
      "source": [
        "l1 = [\"mango\",\"apple\",\"coconut\",\"orange\"]\n",
        "l2 = [\"coconut\",\"apple\",\"pomogranite\",\"pear\"]\n",
        "s1 = set(l1)\n",
        "s2 = set(l2)\n",
        "inters = s1.intersection(s2)\n",
        "print(inters)"
      ],
      "metadata": {
        "colab": {
          "base_uri": "https://localhost:8080/"
        },
        "id": "_emGDmnrjaQK",
        "outputId": "e94d5e30-aefe-4edd-a06a-488fd8a0bf25"
      },
      "execution_count": 11,
      "outputs": [
        {
          "output_type": "stream",
          "name": "stdout",
          "text": [
            "{'coconut', 'apple'}\n"
          ]
        }
      ]
    },
    {
      "cell_type": "code",
      "source": [
        "nset = {1,2,7,9}\n",
        "xset = {3,8,6,5}\n",
        "intersect = nset.intersection(xset)\n",
        "print(intersect)"
      ],
      "metadata": {
        "colab": {
          "base_uri": "https://localhost:8080/"
        },
        "id": "vtFDe_dpj8oC",
        "outputId": "7e075832-af90-4d34-c49f-4a1862e218e5"
      },
      "execution_count": 12,
      "outputs": [
        {
          "output_type": "stream",
          "name": "stdout",
          "text": [
            "set()\n"
          ]
        }
      ]
    },
    {
      "cell_type": "code",
      "source": [
        "l1 = [\"mango\",\"apple\",\"coconut\",\"orange\"]\n",
        "l2 = [\"coconut\",\"apple\",\"pomogranite\",\"pear\"]\n",
        "s1 = set(l1)\n",
        "s2 = set(l2)\n",
        "unique = s1.union(s2)\n",
        "print(unique)"
      ],
      "metadata": {
        "colab": {
          "base_uri": "https://localhost:8080/"
        },
        "id": "P3ZSRpI7kalo",
        "outputId": "9e80f6ab-74a0-4504-f77a-d3fbd3b35ca8"
      },
      "execution_count": 13,
      "outputs": [
        {
          "output_type": "stream",
          "name": "stdout",
          "text": [
            "{'pomogranite', 'mango', 'coconut', 'apple', 'orange', 'pear'}\n"
          ]
        }
      ]
    }
  ]
}